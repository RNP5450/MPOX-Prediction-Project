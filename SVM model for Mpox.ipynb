{
 "cells": [
  {
   "cell_type": "code",
   "execution_count": null,
   "metadata": {},
   "outputs": [],
   "source": [
    "# rahul patil 20230901013\n",
    "import numpy as np\n",
    "import os\n",
    "from sklearn import svm, metrics\n",
    "from sklearn.model_selection import train_test_split\n",
    "from sklearn.preprocessing import StandardScaler, LabelEncoder\n",
    "from sklearn.decomposition import PCA \n",
    "from PIL import Image "
   ]
  },
  {
   "cell_type": "code",
   "execution_count": 49,
   "metadata": {},
   "outputs": [],
   "source": [
    "data_dir = r\"C:\\Users\\user\\OneDrive\\Desktop\\MPOX Dataset\\Original Images\\FOLDS\\fold2\\Train\"\n",
    "target_size = (224, 224) \n",
    "pca_components = 8"
   ]
  },
  {
   "cell_type": "code",
   "execution_count": 50,
   "metadata": {},
   "outputs": [
    {
     "name": "stdout",
     "output_type": "stream",
     "text": [
      "Class names:  ['Chickenpox', 'Cowpox', 'HFMD', 'Healthy', 'Measles', 'Monkeypox']\n"
     ]
    }
   ],
   "source": [
    "image_data = [] # List to store image data\n",
    "labels = [] # List to store labels\n",
    "class_names = sorted(os.listdir(data_dir)) # Get class names\n",
    "label_encoder = LabelEncoder()\n",
    "print(\"Class names: \", class_names)"
   ]
  },
  {
   "cell_type": "code",
   "execution_count": 51,
   "metadata": {},
   "outputs": [],
   "source": [
    "def extract_histogram_features(img_array, num_bins=8):\n",
    "    \"\"\"Extracts histogram features from an image.\"\"\"\n",
    "    hist = np.histogram(img_array, bins=num_bins)[0] # Get histogram\n",
    "    return hist.flatten()"
   ]
  },
  {
   "cell_type": "code",
   "execution_count": null,
   "metadata": {},
   "outputs": [],
   "source": [
    "for class_index, class_name in enumerate(class_names): \n",
    "    class_path = os.path.join(data_dir, class_name) # Construct path to class\n",
    "    if os.path.isdir(class_path): \n",
    "        for image_file in os.listdir(class_path): \n",
    "            image_path = os.path.join(class_path, image_file) # Construct image path\n",
    "            try:\n",
    "                img = Image.open(image_path).convert('RGB').resize(target_size) # Open, convert, resize\n",
    "                img_array = np.array(img) / 255.0 # Convert to NumPy array\n",
    "\n",
    "                gray_img = np.mean(img_array, axis=2)\n",
    "\n",
    "                features = extract_histogram_features(gray_img)\n",
    "\n",
    "                image_data.append(features) # Append features\n",
    "                labels.append(class_name) # Append label\n",
    "\n",
    "            except Exception as e:\n",
    "                print(f\"Error processing {image_path}: {e}\")"
   ]
  },
  {
   "cell_type": "code",
   "execution_count": 53,
   "metadata": {},
   "outputs": [],
   "source": [
    "# Convert image_data to a NumPy array\n",
    "image_data = np.array(image_data)\n",
    "\n",
    "# Encode labels\n",
    "label_encoder = LabelEncoder()\n",
    "labels_encoded = label_encoder.fit_transform(labels)\n",
    "\n",
    "# Split data\n",
    "X_train, X_test, y_train, y_test = train_test_split(image_data, labels_encoded, test_size=0.2, random_state=42)\n",
    "\n",
    "# Initialize scaler\n",
    "scaler = StandardScaler().fit(X_train)\n",
    "\n",
    "# Scale training and test data\n",
    "X_train_scaled = scaler.transform(X_train)\n",
    "X_test_scaled = scaler.transform(X_test)"
   ]
  },
  {
   "cell_type": "code",
   "execution_count": null,
   "metadata": {},
   "outputs": [],
   "source": [
    "pca = PCA(n_components=pca_components)\n",
    "X_train_pca = pca.fit_transform(X_train_scaled) \n",
    "X_test_pca = pca.transform(X_test_scaled)"
   ]
  },
  {
   "cell_type": "code",
   "execution_count": null,
   "metadata": {},
   "outputs": [
    {
     "name": "stdout",
     "output_type": "stream",
     "text": [
      "Accuracy: 0.28431372549019607\n"
     ]
    }
   ],
   "source": [
    "model = svm.SVC(kernel='linear', C=1).fit(X_train_pca, y_train) \n",
    "y_pred = model.predict(X_test_pca) \n",
    "print(\"Accuracy:\", metrics.accuracy_score(y_test, y_pred))"
   ]
  },
  {
   "cell_type": "code",
   "execution_count": null,
   "metadata": {},
   "outputs": [
    {
     "name": "stdout",
     "output_type": "stream",
     "text": [
      "Predicted class: Monkeypox\n"
     ]
    }
   ],
   "source": [
    "#predictions for test image\n",
    "test_image_path = r\"C:\\Users\\user\\OneDrive\\Desktop\\MPOX Dataset\\Original Images\\FOLDS\\fold2\\Test\\HFMD\\HFMD_91_01.jpg\"\n",
    "img = Image.open(test_image_path).convert('RGB').resize(target_size) # Open, convert, resize\n",
    "img_array = np.array(img) / 255.0 \n",
    "gray_img = np.mean(img_array, axis=2) \n",
    "features = extract_histogram_features(gray_img) \n",
    "\n",
    "test_image_scaled = scaler.transform([features]) \n",
    "test_image_pca = pca.transform(test_image_scaled) \n",
    "\n",
    "predicted_class_encoded = model.predict(test_image_pca)[0]\n",
    "predicted_class = label_encoder.inverse_transform([predicted_class_encoded])[0]\n",
    "print(f\"Predicted class: {predicted_class}\")\n"
   ]
  }
 ],
 "metadata": {
  "kernelspec": {
   "display_name": "Python 3",
   "language": "python",
   "name": "python3"
  },
  "language_info": {
   "codemirror_mode": {
    "name": "ipython",
    "version": 3
   },
   "file_extension": ".py",
   "mimetype": "text/x-python",
   "name": "python",
   "nbconvert_exporter": "python",
   "pygments_lexer": "ipython3",
   "version": "3.11.9"
  }
 },
 "nbformat": 4,
 "nbformat_minor": 2
}
